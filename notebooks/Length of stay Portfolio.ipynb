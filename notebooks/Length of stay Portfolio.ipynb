{
 "cells": [
  {
   "cell_type": "markdown",
   "metadata": {},
   "source": [
    "# Length of Stay Predictions"
   ]
  },
  {
   "cell_type": "markdown",
   "metadata": {},
   "source": [
    "# Part 1 - DEFINE"
   ]
  },
  {
   "cell_type": "markdown",
   "metadata": {},
   "source": [
    "### ---- 1 Define the problem ----"
   ]
  },
  {
   "cell_type": "markdown",
   "metadata": {},
   "source": [
    "The goal of this portfolio project is to improve our accuracy in predicting the length of stay of a patient in an hospital"
   ]
  },
  {
   "cell_type": "code",
   "execution_count": 1,
   "metadata": {},
   "outputs": [],
   "source": [
    "#import your libraries\n",
    "import pandas as pd\n",
    "import sklearn as sk\n",
    "#etc\n",
    "import matplotlib.pyplot as plt\n",
    "import seaborn as sns\n",
    "sns.set()\n",
    "#your info here\n",
    "__author__ = \"Alex EBE\"\n",
    "__email__ = \"alexauguste01@gmail.com\""
   ]
  },
  {
   "cell_type": "markdown",
   "metadata": {},
   "source": [
    "## Part 2 - DISCOVER"
   ]
  },
  {
   "cell_type": "markdown",
   "metadata": {},
   "source": [
    "### ---- 2 Load the data ----"
   ]
  },
  {
   "cell_type": "code",
   "execution_count": 2,
   "metadata": {},
   "outputs": [],
   "source": [
    "#load the data into a Pandas dataframe\n",
    "data = pd.read_csv('../data/train_data.csv')"
   ]
  },
  {
   "cell_type": "code",
   "execution_count": 3,
   "metadata": {},
   "outputs": [
    {
     "data": {
      "text/html": [
       "<div>\n",
       "<style scoped>\n",
       "    .dataframe tbody tr th:only-of-type {\n",
       "        vertical-align: middle;\n",
       "    }\n",
       "\n",
       "    .dataframe tbody tr th {\n",
       "        vertical-align: top;\n",
       "    }\n",
       "\n",
       "    .dataframe thead th {\n",
       "        text-align: right;\n",
       "    }\n",
       "</style>\n",
       "<table border=\"1\" class=\"dataframe\">\n",
       "  <thead>\n",
       "    <tr style=\"text-align: right;\">\n",
       "      <th></th>\n",
       "      <th>case_id</th>\n",
       "      <th>Hospital_code</th>\n",
       "      <th>Hospital_type_code</th>\n",
       "      <th>City_Code_Hospital</th>\n",
       "      <th>Hospital_region_code</th>\n",
       "      <th>Available Extra Rooms in Hospital</th>\n",
       "      <th>Department</th>\n",
       "      <th>Ward_Type</th>\n",
       "      <th>Ward_Facility_Code</th>\n",
       "      <th>Bed Grade</th>\n",
       "      <th>patientid</th>\n",
       "      <th>City_Code_Patient</th>\n",
       "      <th>Type of Admission</th>\n",
       "      <th>Severity of Illness</th>\n",
       "      <th>Visitors with Patient</th>\n",
       "      <th>Age</th>\n",
       "      <th>Admission_Deposit</th>\n",
       "      <th>Stay</th>\n",
       "    </tr>\n",
       "  </thead>\n",
       "  <tbody>\n",
       "    <tr>\n",
       "      <th>0</th>\n",
       "      <td>1</td>\n",
       "      <td>8</td>\n",
       "      <td>c</td>\n",
       "      <td>3</td>\n",
       "      <td>Z</td>\n",
       "      <td>3</td>\n",
       "      <td>radiotherapy</td>\n",
       "      <td>R</td>\n",
       "      <td>F</td>\n",
       "      <td>2.0</td>\n",
       "      <td>31397</td>\n",
       "      <td>7.0</td>\n",
       "      <td>Emergency</td>\n",
       "      <td>Extreme</td>\n",
       "      <td>2</td>\n",
       "      <td>51-60</td>\n",
       "      <td>4911.0</td>\n",
       "      <td>0-10</td>\n",
       "    </tr>\n",
       "    <tr>\n",
       "      <th>1</th>\n",
       "      <td>2</td>\n",
       "      <td>2</td>\n",
       "      <td>c</td>\n",
       "      <td>5</td>\n",
       "      <td>Z</td>\n",
       "      <td>2</td>\n",
       "      <td>radiotherapy</td>\n",
       "      <td>S</td>\n",
       "      <td>F</td>\n",
       "      <td>2.0</td>\n",
       "      <td>31397</td>\n",
       "      <td>7.0</td>\n",
       "      <td>Trauma</td>\n",
       "      <td>Extreme</td>\n",
       "      <td>2</td>\n",
       "      <td>51-60</td>\n",
       "      <td>5954.0</td>\n",
       "      <td>41-50</td>\n",
       "    </tr>\n",
       "    <tr>\n",
       "      <th>2</th>\n",
       "      <td>3</td>\n",
       "      <td>10</td>\n",
       "      <td>e</td>\n",
       "      <td>1</td>\n",
       "      <td>X</td>\n",
       "      <td>2</td>\n",
       "      <td>anesthesia</td>\n",
       "      <td>S</td>\n",
       "      <td>E</td>\n",
       "      <td>2.0</td>\n",
       "      <td>31397</td>\n",
       "      <td>7.0</td>\n",
       "      <td>Trauma</td>\n",
       "      <td>Extreme</td>\n",
       "      <td>2</td>\n",
       "      <td>51-60</td>\n",
       "      <td>4745.0</td>\n",
       "      <td>31-40</td>\n",
       "    </tr>\n",
       "    <tr>\n",
       "      <th>3</th>\n",
       "      <td>4</td>\n",
       "      <td>26</td>\n",
       "      <td>b</td>\n",
       "      <td>2</td>\n",
       "      <td>Y</td>\n",
       "      <td>2</td>\n",
       "      <td>radiotherapy</td>\n",
       "      <td>R</td>\n",
       "      <td>D</td>\n",
       "      <td>2.0</td>\n",
       "      <td>31397</td>\n",
       "      <td>7.0</td>\n",
       "      <td>Trauma</td>\n",
       "      <td>Extreme</td>\n",
       "      <td>2</td>\n",
       "      <td>51-60</td>\n",
       "      <td>7272.0</td>\n",
       "      <td>41-50</td>\n",
       "    </tr>\n",
       "    <tr>\n",
       "      <th>4</th>\n",
       "      <td>5</td>\n",
       "      <td>26</td>\n",
       "      <td>b</td>\n",
       "      <td>2</td>\n",
       "      <td>Y</td>\n",
       "      <td>2</td>\n",
       "      <td>radiotherapy</td>\n",
       "      <td>S</td>\n",
       "      <td>D</td>\n",
       "      <td>2.0</td>\n",
       "      <td>31397</td>\n",
       "      <td>7.0</td>\n",
       "      <td>Trauma</td>\n",
       "      <td>Extreme</td>\n",
       "      <td>2</td>\n",
       "      <td>51-60</td>\n",
       "      <td>5558.0</td>\n",
       "      <td>41-50</td>\n",
       "    </tr>\n",
       "  </tbody>\n",
       "</table>\n",
       "</div>"
      ],
      "text/plain": [
       "   case_id  Hospital_code Hospital_type_code  City_Code_Hospital  \\\n",
       "0        1              8                  c                   3   \n",
       "1        2              2                  c                   5   \n",
       "2        3             10                  e                   1   \n",
       "3        4             26                  b                   2   \n",
       "4        5             26                  b                   2   \n",
       "\n",
       "  Hospital_region_code  Available Extra Rooms in Hospital    Department  \\\n",
       "0                    Z                                  3  radiotherapy   \n",
       "1                    Z                                  2  radiotherapy   \n",
       "2                    X                                  2    anesthesia   \n",
       "3                    Y                                  2  radiotherapy   \n",
       "4                    Y                                  2  radiotherapy   \n",
       "\n",
       "  Ward_Type Ward_Facility_Code  Bed Grade  patientid  City_Code_Patient  \\\n",
       "0         R                  F        2.0      31397                7.0   \n",
       "1         S                  F        2.0      31397                7.0   \n",
       "2         S                  E        2.0      31397                7.0   \n",
       "3         R                  D        2.0      31397                7.0   \n",
       "4         S                  D        2.0      31397                7.0   \n",
       "\n",
       "  Type of Admission Severity of Illness  Visitors with Patient    Age  \\\n",
       "0         Emergency             Extreme                      2  51-60   \n",
       "1            Trauma             Extreme                      2  51-60   \n",
       "2            Trauma             Extreme                      2  51-60   \n",
       "3            Trauma             Extreme                      2  51-60   \n",
       "4            Trauma             Extreme                      2  51-60   \n",
       "\n",
       "   Admission_Deposit   Stay  \n",
       "0             4911.0   0-10  \n",
       "1             5954.0  41-50  \n",
       "2             4745.0  31-40  \n",
       "3             7272.0  41-50  \n",
       "4             5558.0  41-50  "
      ]
     },
     "execution_count": 3,
     "metadata": {},
     "output_type": "execute_result"
    }
   ],
   "source": [
    "data.head()"
   ]
  },
  {
   "cell_type": "code",
   "execution_count": 4,
   "metadata": {},
   "outputs": [
    {
     "name": "stdout",
     "output_type": "stream",
     "text": [
      "<class 'pandas.core.frame.DataFrame'>\n",
      "RangeIndex: 318438 entries, 0 to 318437\n",
      "Data columns (total 18 columns):\n",
      " #   Column                             Non-Null Count   Dtype  \n",
      "---  ------                             --------------   -----  \n",
      " 0   case_id                            318438 non-null  int64  \n",
      " 1   Hospital_code                      318438 non-null  int64  \n",
      " 2   Hospital_type_code                 318438 non-null  object \n",
      " 3   City_Code_Hospital                 318438 non-null  int64  \n",
      " 4   Hospital_region_code               318438 non-null  object \n",
      " 5   Available Extra Rooms in Hospital  318438 non-null  int64  \n",
      " 6   Department                         318438 non-null  object \n",
      " 7   Ward_Type                          318438 non-null  object \n",
      " 8   Ward_Facility_Code                 318438 non-null  object \n",
      " 9   Bed Grade                          318325 non-null  float64\n",
      " 10  patientid                          318438 non-null  int64  \n",
      " 11  City_Code_Patient                  313906 non-null  float64\n",
      " 12  Type of Admission                  318438 non-null  object \n",
      " 13  Severity of Illness                318438 non-null  object \n",
      " 14  Visitors with Patient              318438 non-null  int64  \n",
      " 15  Age                                318438 non-null  object \n",
      " 16  Admission_Deposit                  318438 non-null  float64\n",
      " 17  Stay                               318438 non-null  object \n",
      "dtypes: float64(3), int64(6), object(9)\n",
      "memory usage: 43.7+ MB\n"
     ]
    }
   ],
   "source": [
    "data.info()"
   ]
  },
  {
   "cell_type": "markdown",
   "metadata": {},
   "source": [
    "### ---- 3 Features Description ----"
   ]
  },
  {
   "cell_type": "markdown",
   "metadata": {},
   "source": [
    "1 - `case_id` : Case_ID registered in Hospital  \n",
    "2 - `Hospital_code` : Unique code for the Hospital  \n",
    "3 - `Hospital_type_code` : Unique code for the type of Hospital  \n",
    "4 - `City_Code_Hospital` : City Code of the Hospital  \n",
    "5 - `Hospital_region_code`: Region Code of the Hospital  \n",
    "6 - `Available Extra Rooms in Hospital` : Number of Extra rooms available in the Hospital  \n",
    "7 - `Department` : Department overlooking the case  \n",
    "8 - `Ward_Typ` : Code for the Ward type  \n",
    "9 - `Ward_Facility_Code` : Code for the Ward Facility  \n",
    "10 - `Bed Grad` : Condition of Bed in the Ward  \n",
    "11 - `patientid` : Unique Patient Id  \n",
    "12 - `City_Code_Patient` : City Code for the patient  \n",
    "13 - `Type of Admission` : Admission Type registered by the Hospital  \n",
    "14 - `Severity of Illnes` : Severity of the illness recorded at the time of admission  \n",
    "15 - `Visitors with Patient` : Number of Visitors with the patient  \n",
    "16 - `Age` : Age of the patient  \n",
    "17 - `Admission_Deposit` : Deposit at the Admission Time  \n",
    "18 - `Stay` : Stay Days by the patient\n"
   ]
  },
  {
   "cell_type": "markdown",
   "metadata": {},
   "source": [
    "### ---- 4 Clean the data ----"
   ]
  },
  {
   "cell_type": "markdown",
   "metadata": {},
   "source": [
    "##### Missing values"
   ]
  },
  {
   "cell_type": "markdown",
   "metadata": {},
   "source": [
    "`Bed Grade` has missing values"
   ]
  },
  {
   "cell_type": "code",
   "execution_count": 5,
   "metadata": {},
   "outputs": [
    {
     "data": {
      "text/html": [
       "<div>\n",
       "<style scoped>\n",
       "    .dataframe tbody tr th:only-of-type {\n",
       "        vertical-align: middle;\n",
       "    }\n",
       "\n",
       "    .dataframe tbody tr th {\n",
       "        vertical-align: top;\n",
       "    }\n",
       "\n",
       "    .dataframe thead th {\n",
       "        text-align: right;\n",
       "    }\n",
       "</style>\n",
       "<table border=\"1\" class=\"dataframe\">\n",
       "  <thead>\n",
       "    <tr style=\"text-align: right;\">\n",
       "      <th></th>\n",
       "      <th>case_id</th>\n",
       "      <th>Hospital_code</th>\n",
       "      <th>Hospital_type_code</th>\n",
       "      <th>City_Code_Hospital</th>\n",
       "      <th>Hospital_region_code</th>\n",
       "      <th>Available Extra Rooms in Hospital</th>\n",
       "      <th>Department</th>\n",
       "      <th>Ward_Type</th>\n",
       "      <th>Ward_Facility_Code</th>\n",
       "      <th>Bed Grade</th>\n",
       "      <th>patientid</th>\n",
       "      <th>City_Code_Patient</th>\n",
       "      <th>Type of Admission</th>\n",
       "      <th>Severity of Illness</th>\n",
       "      <th>Visitors with Patient</th>\n",
       "      <th>Age</th>\n",
       "      <th>Admission_Deposit</th>\n",
       "      <th>Stay</th>\n",
       "    </tr>\n",
       "  </thead>\n",
       "  <tbody>\n",
       "    <tr>\n",
       "      <th>293</th>\n",
       "      <td>294</td>\n",
       "      <td>6</td>\n",
       "      <td>a</td>\n",
       "      <td>6</td>\n",
       "      <td>X</td>\n",
       "      <td>4</td>\n",
       "      <td>gynecology</td>\n",
       "      <td>Q</td>\n",
       "      <td>F</td>\n",
       "      <td>NaN</td>\n",
       "      <td>27075</td>\n",
       "      <td>15.0</td>\n",
       "      <td>Trauma</td>\n",
       "      <td>Extreme</td>\n",
       "      <td>2</td>\n",
       "      <td>21-30</td>\n",
       "      <td>4420.0</td>\n",
       "      <td>31-40</td>\n",
       "    </tr>\n",
       "    <tr>\n",
       "      <th>1071</th>\n",
       "      <td>1072</td>\n",
       "      <td>6</td>\n",
       "      <td>a</td>\n",
       "      <td>6</td>\n",
       "      <td>X</td>\n",
       "      <td>2</td>\n",
       "      <td>gynecology</td>\n",
       "      <td>Q</td>\n",
       "      <td>F</td>\n",
       "      <td>NaN</td>\n",
       "      <td>62491</td>\n",
       "      <td>8.0</td>\n",
       "      <td>Trauma</td>\n",
       "      <td>Extreme</td>\n",
       "      <td>4</td>\n",
       "      <td>61-70</td>\n",
       "      <td>5395.0</td>\n",
       "      <td>21-30</td>\n",
       "    </tr>\n",
       "    <tr>\n",
       "      <th>20379</th>\n",
       "      <td>20380</td>\n",
       "      <td>6</td>\n",
       "      <td>a</td>\n",
       "      <td>6</td>\n",
       "      <td>X</td>\n",
       "      <td>4</td>\n",
       "      <td>gynecology</td>\n",
       "      <td>Q</td>\n",
       "      <td>F</td>\n",
       "      <td>NaN</td>\n",
       "      <td>69932</td>\n",
       "      <td>2.0</td>\n",
       "      <td>Trauma</td>\n",
       "      <td>Extreme</td>\n",
       "      <td>3</td>\n",
       "      <td>41-50</td>\n",
       "      <td>5989.0</td>\n",
       "      <td>31-40</td>\n",
       "    </tr>\n",
       "    <tr>\n",
       "      <th>23791</th>\n",
       "      <td>23792</td>\n",
       "      <td>6</td>\n",
       "      <td>a</td>\n",
       "      <td>6</td>\n",
       "      <td>X</td>\n",
       "      <td>3</td>\n",
       "      <td>gynecology</td>\n",
       "      <td>R</td>\n",
       "      <td>F</td>\n",
       "      <td>NaN</td>\n",
       "      <td>29943</td>\n",
       "      <td>10.0</td>\n",
       "      <td>Emergency</td>\n",
       "      <td>Minor</td>\n",
       "      <td>3</td>\n",
       "      <td>31-40</td>\n",
       "      <td>4488.0</td>\n",
       "      <td>41-50</td>\n",
       "    </tr>\n",
       "    <tr>\n",
       "      <th>25162</th>\n",
       "      <td>25163</td>\n",
       "      <td>6</td>\n",
       "      <td>a</td>\n",
       "      <td>6</td>\n",
       "      <td>X</td>\n",
       "      <td>5</td>\n",
       "      <td>gynecology</td>\n",
       "      <td>R</td>\n",
       "      <td>F</td>\n",
       "      <td>NaN</td>\n",
       "      <td>92499</td>\n",
       "      <td>1.0</td>\n",
       "      <td>Emergency</td>\n",
       "      <td>Minor</td>\n",
       "      <td>2</td>\n",
       "      <td>71-80</td>\n",
       "      <td>4885.0</td>\n",
       "      <td>21-30</td>\n",
       "    </tr>\n",
       "    <tr>\n",
       "      <th>...</th>\n",
       "      <td>...</td>\n",
       "      <td>...</td>\n",
       "      <td>...</td>\n",
       "      <td>...</td>\n",
       "      <td>...</td>\n",
       "      <td>...</td>\n",
       "      <td>...</td>\n",
       "      <td>...</td>\n",
       "      <td>...</td>\n",
       "      <td>...</td>\n",
       "      <td>...</td>\n",
       "      <td>...</td>\n",
       "      <td>...</td>\n",
       "      <td>...</td>\n",
       "      <td>...</td>\n",
       "      <td>...</td>\n",
       "      <td>...</td>\n",
       "      <td>...</td>\n",
       "    </tr>\n",
       "    <tr>\n",
       "      <th>234337</th>\n",
       "      <td>234338</td>\n",
       "      <td>6</td>\n",
       "      <td>a</td>\n",
       "      <td>6</td>\n",
       "      <td>X</td>\n",
       "      <td>2</td>\n",
       "      <td>radiotherapy</td>\n",
       "      <td>R</td>\n",
       "      <td>F</td>\n",
       "      <td>NaN</td>\n",
       "      <td>22881</td>\n",
       "      <td>7.0</td>\n",
       "      <td>Emergency</td>\n",
       "      <td>Minor</td>\n",
       "      <td>2</td>\n",
       "      <td>11-20</td>\n",
       "      <td>2416.0</td>\n",
       "      <td>0-10</td>\n",
       "    </tr>\n",
       "    <tr>\n",
       "      <th>234577</th>\n",
       "      <td>234578</td>\n",
       "      <td>6</td>\n",
       "      <td>a</td>\n",
       "      <td>6</td>\n",
       "      <td>X</td>\n",
       "      <td>2</td>\n",
       "      <td>gynecology</td>\n",
       "      <td>R</td>\n",
       "      <td>F</td>\n",
       "      <td>NaN</td>\n",
       "      <td>120677</td>\n",
       "      <td>2.0</td>\n",
       "      <td>Trauma</td>\n",
       "      <td>Extreme</td>\n",
       "      <td>4</td>\n",
       "      <td>41-50</td>\n",
       "      <td>4932.0</td>\n",
       "      <td>51-60</td>\n",
       "    </tr>\n",
       "    <tr>\n",
       "      <th>234895</th>\n",
       "      <td>234896</td>\n",
       "      <td>6</td>\n",
       "      <td>a</td>\n",
       "      <td>6</td>\n",
       "      <td>X</td>\n",
       "      <td>2</td>\n",
       "      <td>gynecology</td>\n",
       "      <td>R</td>\n",
       "      <td>F</td>\n",
       "      <td>NaN</td>\n",
       "      <td>111514</td>\n",
       "      <td>1.0</td>\n",
       "      <td>Trauma</td>\n",
       "      <td>Moderate</td>\n",
       "      <td>4</td>\n",
       "      <td>51-60</td>\n",
       "      <td>3984.0</td>\n",
       "      <td>11-20</td>\n",
       "    </tr>\n",
       "    <tr>\n",
       "      <th>235048</th>\n",
       "      <td>235049</td>\n",
       "      <td>6</td>\n",
       "      <td>a</td>\n",
       "      <td>6</td>\n",
       "      <td>X</td>\n",
       "      <td>2</td>\n",
       "      <td>gynecology</td>\n",
       "      <td>R</td>\n",
       "      <td>F</td>\n",
       "      <td>NaN</td>\n",
       "      <td>57706</td>\n",
       "      <td>2.0</td>\n",
       "      <td>Trauma</td>\n",
       "      <td>Moderate</td>\n",
       "      <td>3</td>\n",
       "      <td>41-50</td>\n",
       "      <td>4139.0</td>\n",
       "      <td>51-60</td>\n",
       "    </tr>\n",
       "    <tr>\n",
       "      <th>236244</th>\n",
       "      <td>236245</td>\n",
       "      <td>6</td>\n",
       "      <td>a</td>\n",
       "      <td>6</td>\n",
       "      <td>X</td>\n",
       "      <td>4</td>\n",
       "      <td>gynecology</td>\n",
       "      <td>R</td>\n",
       "      <td>F</td>\n",
       "      <td>NaN</td>\n",
       "      <td>19345</td>\n",
       "      <td>2.0</td>\n",
       "      <td>Emergency</td>\n",
       "      <td>Extreme</td>\n",
       "      <td>2</td>\n",
       "      <td>41-50</td>\n",
       "      <td>3745.0</td>\n",
       "      <td>21-30</td>\n",
       "    </tr>\n",
       "  </tbody>\n",
       "</table>\n",
       "<p>113 rows × 18 columns</p>\n",
       "</div>"
      ],
      "text/plain": [
       "        case_id  Hospital_code Hospital_type_code  City_Code_Hospital  \\\n",
       "293         294              6                  a                   6   \n",
       "1071       1072              6                  a                   6   \n",
       "20379     20380              6                  a                   6   \n",
       "23791     23792              6                  a                   6   \n",
       "25162     25163              6                  a                   6   \n",
       "...         ...            ...                ...                 ...   \n",
       "234337   234338              6                  a                   6   \n",
       "234577   234578              6                  a                   6   \n",
       "234895   234896              6                  a                   6   \n",
       "235048   235049              6                  a                   6   \n",
       "236244   236245              6                  a                   6   \n",
       "\n",
       "       Hospital_region_code  Available Extra Rooms in Hospital    Department  \\\n",
       "293                       X                                  4    gynecology   \n",
       "1071                      X                                  2    gynecology   \n",
       "20379                     X                                  4    gynecology   \n",
       "23791                     X                                  3    gynecology   \n",
       "25162                     X                                  5    gynecology   \n",
       "...                     ...                                ...           ...   \n",
       "234337                    X                                  2  radiotherapy   \n",
       "234577                    X                                  2    gynecology   \n",
       "234895                    X                                  2    gynecology   \n",
       "235048                    X                                  2    gynecology   \n",
       "236244                    X                                  4    gynecology   \n",
       "\n",
       "       Ward_Type Ward_Facility_Code  Bed Grade  patientid  City_Code_Patient  \\\n",
       "293            Q                  F        NaN      27075               15.0   \n",
       "1071           Q                  F        NaN      62491                8.0   \n",
       "20379          Q                  F        NaN      69932                2.0   \n",
       "23791          R                  F        NaN      29943               10.0   \n",
       "25162          R                  F        NaN      92499                1.0   \n",
       "...          ...                ...        ...        ...                ...   \n",
       "234337         R                  F        NaN      22881                7.0   \n",
       "234577         R                  F        NaN     120677                2.0   \n",
       "234895         R                  F        NaN     111514                1.0   \n",
       "235048         R                  F        NaN      57706                2.0   \n",
       "236244         R                  F        NaN      19345                2.0   \n",
       "\n",
       "       Type of Admission Severity of Illness  Visitors with Patient    Age  \\\n",
       "293               Trauma             Extreme                      2  21-30   \n",
       "1071              Trauma             Extreme                      4  61-70   \n",
       "20379             Trauma             Extreme                      3  41-50   \n",
       "23791          Emergency               Minor                      3  31-40   \n",
       "25162          Emergency               Minor                      2  71-80   \n",
       "...                  ...                 ...                    ...    ...   \n",
       "234337         Emergency               Minor                      2  11-20   \n",
       "234577            Trauma             Extreme                      4  41-50   \n",
       "234895            Trauma            Moderate                      4  51-60   \n",
       "235048            Trauma            Moderate                      3  41-50   \n",
       "236244         Emergency             Extreme                      2  41-50   \n",
       "\n",
       "        Admission_Deposit   Stay  \n",
       "293                4420.0  31-40  \n",
       "1071               5395.0  21-30  \n",
       "20379              5989.0  31-40  \n",
       "23791              4488.0  41-50  \n",
       "25162              4885.0  21-30  \n",
       "...                   ...    ...  \n",
       "234337             2416.0   0-10  \n",
       "234577             4932.0  51-60  \n",
       "234895             3984.0  11-20  \n",
       "235048             4139.0  51-60  \n",
       "236244             3745.0  21-30  \n",
       "\n",
       "[113 rows x 18 columns]"
      ]
     },
     "execution_count": 5,
     "metadata": {},
     "output_type": "execute_result"
    }
   ],
   "source": [
    "data.loc[data['Bed Grade'].isnull()]"
   ]
  },
  {
   "cell_type": "code",
   "execution_count": 6,
   "metadata": {},
   "outputs": [
    {
     "data": {
      "text/plain": [
       "2.0    123671\n",
       "3.0    110583\n",
       "4.0     57566\n",
       "1.0     26505\n",
       "Name: Bed Grade, dtype: int64"
      ]
     },
     "execution_count": 6,
     "metadata": {},
     "output_type": "execute_result"
    }
   ],
   "source": [
    "data['Bed Grade'].value_counts()"
   ]
  },
  {
   "cell_type": "markdown",
   "metadata": {},
   "source": [
    "We fill the missing value of `Bed Grade` with the most frequent value: 2.0"
   ]
  },
  {
   "cell_type": "code",
   "execution_count": 7,
   "metadata": {},
   "outputs": [],
   "source": [
    "data.loc[data['Bed Grade'].isnull(),'Bed Grade'] = 2.0"
   ]
  },
  {
   "cell_type": "code",
   "execution_count": 8,
   "metadata": {},
   "outputs": [
    {
     "data": {
      "text/plain": [
       "count     318438\n",
       "unique        11\n",
       "top        21-30\n",
       "freq       87491\n",
       "Name: Stay, dtype: object"
      ]
     },
     "execution_count": 8,
     "metadata": {},
     "output_type": "execute_result"
    }
   ],
   "source": [
    "data['Stay'].describe()"
   ]
  },
  {
   "cell_type": "markdown",
   "metadata": {},
   "source": [
    "### ---- 5 Explore the data (EDA) ----"
   ]
  },
  {
   "cell_type": "code",
   "execution_count": 9,
   "metadata": {},
   "outputs": [],
   "source": [
    "#summarize each feature variable\n",
    "#summarize the target variable\n",
    "#look for correlation between each feature and the target\n",
    "#look for correlation between features"
   ]
  },
  {
   "cell_type": "code",
   "execution_count": 10,
   "metadata": {},
   "outputs": [
    {
     "data": {
      "text/plain": [
       "21-30                 87491\n",
       "11-20                 78139\n",
       "31-40                 55159\n",
       "51-60                 35018\n",
       "0-10                  23604\n",
       "41-50                 11743\n",
       "71-80                 10254\n",
       "More than 100 Days     6683\n",
       "81-90                  4838\n",
       "91-100                 2765\n",
       "61-70                  2744\n",
       "Name: Stay, dtype: int64"
      ]
     },
     "execution_count": 10,
     "metadata": {},
     "output_type": "execute_result"
    }
   ],
   "source": [
    "data['Stay'].value_counts()"
   ]
  },
  {
   "cell_type": "code",
   "execution_count": 11,
   "metadata": {},
   "outputs": [],
   "source": [
    "order = ['0-10', '11-20', '21-30', '31-40', '41-50', '51-60', '61-70', '71-80', '81-90', '91-100', 'More than 100 Days']"
   ]
  },
  {
   "cell_type": "code",
   "execution_count": 12,
   "metadata": {},
   "outputs": [
    {
     "data": {
      "image/png": "[encoded data removed]",
      "text/plain": [
       "<Figure size 1080x576 with 1 Axes>"
      ]
     },
     "metadata": {},
     "output_type": "display_data"
    }
   ],
   "source": [
    "fig = plt.figure(figsize=(15, 8))\n",
    "sns.countplot(data=data, x='Stay', order=order)\n",
    "plt.show()"
   ]
  },
  {
   "cell_type": "code",
   "execution_count": 13,
   "metadata": {},
   "outputs": [
    {
     "data": {
      "text/plain": [
       "<Figure size 1080x576 with 0 Axes>"
      ]
     },
     "metadata": {},
     "output_type": "display_data"
    },
    {
     "data": {
      "image/png": "[encoded data removed]",
      "text/plain": [
       "<Figure size 1080x576 with 1 Axes>"
      ]
     },
     "metadata": {},
     "output_type": "display_data"
    }
   ],
   "source": [
    "plt.figure(figsize=(15, 8))\n",
    "sns.displot(data=data, x='Available Extra Rooms in Hospital', bins=50, height=8, aspect=15/8)\n",
    "#plt.xticks(range(-200,80000,500))\n",
    "plt.show()"
   ]
  },
  {
   "cell_type": "markdown",
   "metadata": {},
   "source": [
    "#### Departement"
   ]
  },
  {
   "cell_type": "code",
   "execution_count": 32,
   "metadata": {},
   "outputs": [],
   "source": [
    "departement_ctb = pd.crosstab(data['Stay'], data['Department'])"
   ]
  },
  {
   "cell_type": "code",
   "execution_count": 33,
   "metadata": {},
   "outputs": [
    {
     "data": {
      "text/html": [
       "<div>\n",
       "<style scoped>\n",
       "    .dataframe tbody tr th:only-of-type {\n",
       "        vertical-align: middle;\n",
       "    }\n",
       "\n",
       "    .dataframe tbody tr th {\n",
       "        vertical-align: top;\n",
       "    }\n",
       "\n",
       "    .dataframe thead th {\n",
       "        text-align: right;\n",
       "    }\n",
       "</style>\n",
       "<table border=\"1\" class=\"dataframe\">\n",
       "  <thead>\n",
       "    <tr style=\"text-align: right;\">\n",
       "      <th>Department</th>\n",
       "      <th>TB &amp; Chest disease</th>\n",
       "      <th>anesthesia</th>\n",
       "      <th>gynecology</th>\n",
       "      <th>radiotherapy</th>\n",
       "      <th>surgery</th>\n",
       "    </tr>\n",
       "    <tr>\n",
       "      <th>Stay</th>\n",
       "      <th></th>\n",
       "      <th></th>\n",
       "      <th></th>\n",
       "      <th></th>\n",
       "      <th></th>\n",
       "    </tr>\n",
       "  </thead>\n",
       "  <tbody>\n",
       "    <tr>\n",
       "      <th>0-10</th>\n",
       "      <td>791</td>\n",
       "      <td>1519</td>\n",
       "      <td>18849</td>\n",
       "      <td>2379</td>\n",
       "      <td>66</td>\n",
       "    </tr>\n",
       "    <tr>\n",
       "      <th>11-20</th>\n",
       "      <td>2379</td>\n",
       "      <td>8823</td>\n",
       "      <td>59690</td>\n",
       "      <td>6988</td>\n",
       "      <td>259</td>\n",
       "    </tr>\n",
       "    <tr>\n",
       "      <th>21-30</th>\n",
       "      <td>2618</td>\n",
       "      <td>8950</td>\n",
       "      <td>68383</td>\n",
       "      <td>7263</td>\n",
       "      <td>277</td>\n",
       "    </tr>\n",
       "    <tr>\n",
       "      <th>31-40</th>\n",
       "      <td>1753</td>\n",
       "      <td>4958</td>\n",
       "      <td>43535</td>\n",
       "      <td>4713</td>\n",
       "      <td>200</td>\n",
       "    </tr>\n",
       "    <tr>\n",
       "      <th>41-50</th>\n",
       "      <td>300</td>\n",
       "      <td>851</td>\n",
       "      <td>9671</td>\n",
       "      <td>879</td>\n",
       "      <td>42</td>\n",
       "    </tr>\n",
       "    <tr>\n",
       "      <th>51-60</th>\n",
       "      <td>1047</td>\n",
       "      <td>2527</td>\n",
       "      <td>27989</td>\n",
       "      <td>3256</td>\n",
       "      <td>199</td>\n",
       "    </tr>\n",
       "    <tr>\n",
       "      <th>61-70</th>\n",
       "      <td>76</td>\n",
       "      <td>173</td>\n",
       "      <td>2226</td>\n",
       "      <td>264</td>\n",
       "      <td>5</td>\n",
       "    </tr>\n",
       "    <tr>\n",
       "      <th>71-80</th>\n",
       "      <td>294</td>\n",
       "      <td>703</td>\n",
       "      <td>8165</td>\n",
       "      <td>1043</td>\n",
       "      <td>49</td>\n",
       "    </tr>\n",
       "    <tr>\n",
       "      <th>81-90</th>\n",
       "      <td>140</td>\n",
       "      <td>384</td>\n",
       "      <td>3748</td>\n",
       "      <td>528</td>\n",
       "      <td>38</td>\n",
       "    </tr>\n",
       "    <tr>\n",
       "      <th>91-100</th>\n",
       "      <td>64</td>\n",
       "      <td>156</td>\n",
       "      <td>2269</td>\n",
       "      <td>256</td>\n",
       "      <td>20</td>\n",
       "    </tr>\n",
       "    <tr>\n",
       "      <th>More than 100 Days</th>\n",
       "      <td>124</td>\n",
       "      <td>605</td>\n",
       "      <td>4961</td>\n",
       "      <td>947</td>\n",
       "      <td>46</td>\n",
       "    </tr>\n",
       "  </tbody>\n",
       "</table>\n",
       "</div>"
      ],
      "text/plain": [
       "Department          TB & Chest disease  anesthesia  gynecology  radiotherapy  \\\n",
       "Stay                                                                           \n",
       "0-10                               791        1519       18849          2379   \n",
       "11-20                             2379        8823       59690          6988   \n",
       "21-30                             2618        8950       68383          7263   \n",
       "31-40                             1753        4958       43535          4713   \n",
       "41-50                              300         851        9671           879   \n",
       "51-60                             1047        2527       27989          3256   \n",
       "61-70                               76         173        2226           264   \n",
       "71-80                              294         703        8165          1043   \n",
       "81-90                              140         384        3748           528   \n",
       "91-100                              64         156        2269           256   \n",
       "More than 100 Days                 124         605        4961           947   \n",
       "\n",
       "Department          surgery  \n",
       "Stay                         \n",
       "0-10                     66  \n",
       "11-20                   259  \n",
       "21-30                   277  \n",
       "31-40                   200  \n",
       "41-50                    42  \n",
       "51-60                   199  \n",
       "61-70                     5  \n",
       "71-80                    49  \n",
       "81-90                    38  \n",
       "91-100                   20  \n",
       "More than 100 Days       46  "
      ]
     },
     "execution_count": 33,
     "metadata": {},
     "output_type": "execute_result"
    }
   ],
   "source": [
    "departement_ctb"
   ]
  },
  {
   "cell_type": "code",
   "execution_count": 16,
   "metadata": {},
   "outputs": [],
   "source": [
    "def plot_pie(df, feature, ctb, rows, cols, width, heigth):\n",
    "    plt.figure(figsize=(width,heigth))\n",
    "    #for each value taken by the feature\n",
    "    for i in range(df[feature].value_counts().shape[0]):\n",
    "        plt.subplot(rows, cols, i+1)\n",
    "        plt.pie(ctb.iloc[:,i], labels=ctb.index, startangle=90, autopct='%1.1f%%', pctdistance=0.25, radius=1.5)\n",
    "        plt.title(ctb.columns[i])    "
   ]
  },
  {
   "cell_type": "code",
   "execution_count": 34,
   "metadata": {},
   "outputs": [
    {
     "data": {
      "text/plain": [
       "<Figure size 1080x576 with 0 Axes>"
      ]
     },
     "metadata": {},
     "output_type": "display_data"
    },
    {
     "data": {
      "image/png": "[encoded data removed]",
      "text/plain": [
       "<Figure size 432x288 with 1 Axes>"
      ]
     },
     "metadata": {},
     "output_type": "display_data"
    }
   ],
   "source": [
    "plt.figure(figsize=(15, 8))\n",
    "departement_ctb.plot(kind='bar', stacked=True)\n",
    "plt.show()"
   ]
  },
  {
   "cell_type": "markdown",
   "metadata": {},
   "source": [
    "#### Severity"
   ]
  },
  {
   "cell_type": "code",
   "execution_count": 30,
   "metadata": {},
   "outputs": [],
   "source": [
    "severity_ctb = pd.crosstab(data['Stay'], data['Severity of Illness'],)"
   ]
  },
  {
   "cell_type": "code",
   "execution_count": 31,
   "metadata": {},
   "outputs": [
    {
     "data": {
      "text/plain": [
       "<Figure size 1080x576 with 0 Axes>"
      ]
     },
     "metadata": {},
     "output_type": "display_data"
    },
    {
     "data": {
      "image/png": "[encoded data removed]",
      "text/plain": [
       "<Figure size 432x288 with 1 Axes>"
      ]
     },
     "metadata": {},
     "output_type": "display_data"
    }
   ],
   "source": [
    "plt.figure(figsize=(15, 8))\n",
    "severity_ctb.plot(kind='bar', stacked=True)\n",
    "plt.show()"
   ]
  },
  {
   "cell_type": "markdown",
   "metadata": {},
   "source": [
    "#### Type of admission"
   ]
  },
  {
   "cell_type": "code",
   "execution_count": 28,
   "metadata": {},
   "outputs": [],
   "source": [
    "type_admission_ctb = pd.crosstab(data['Stay'], data['Type of Admission'],)"
   ]
  },
  {
   "cell_type": "code",
   "execution_count": 29,
   "metadata": {},
   "outputs": [
    {
     "data": {
      "text/plain": [
       "<Figure size 1080x576 with 0 Axes>"
      ]
     },
     "metadata": {},
     "output_type": "display_data"
    },
    {
     "data": {
      "image/png": "[encoded data removed]",
      "text/plain": [
       "<Figure size 432x288 with 1 Axes>"
      ]
     },
     "metadata": {},
     "output_type": "display_data"
    }
   ],
   "source": [
    "plt.figure(figsize=(15, 8))\n",
    "type_admission_ctb.plot(kind='bar', stacked=True)\n",
    "plt.show()"
   ]
  },
  {
   "cell_type": "markdown",
   "metadata": {},
   "source": [
    "### ---- 5 Establish a baseline ----"
   ]
  },
  {
   "cell_type": "code",
   "execution_count": 5,
   "metadata": {},
   "outputs": [],
   "source": [
    "#select a reasonable metric (MSE in this case)\n",
    "#create an extremely simple model and measure its efficacy\n",
    "#e.g. use \"average salary\" for each industry as your model and then measure MSE\n",
    "#during 5-fold cross-validation"
   ]
  },
  {
   "cell_type": "markdown",
   "metadata": {},
   "source": [
    "### ---- 6 Hypothesize solution ----"
   ]
  },
  {
   "cell_type": "code",
   "execution_count": null,
   "metadata": {},
   "outputs": [],
   "source": [
    "#brainstorm 3 models that you think may improve results over the baseline model based\n",
    "#on your "
   ]
  },
  {
   "cell_type": "markdown",
   "metadata": {},
   "source": [
    "Brainstorm 3 models that you think may improve results over the baseline model based on your EDA and explain why they're reasonable solutions here.\n",
    "\n",
    "Also write down any new features that you think you should try adding to the model based on your EDA, e.g. interaction variables, summary statistics for each group, etc"
   ]
  },
  {
   "cell_type": "markdown",
   "metadata": {},
   "source": [
    "## Part 3 - DEVELOP"
   ]
  },
  {
   "cell_type": "markdown",
   "metadata": {},
   "source": [
    "You will cycle through creating features, tuning models, and training/validing models (steps 7-9) until you've reached your efficacy goal\n",
    "\n",
    "#### Your metric will be MSE and your goal is:\n",
    " - <360 for entry-level data science roles\n",
    " - <320 for senior data science roles"
   ]
  },
  {
   "cell_type": "markdown",
   "metadata": {},
   "source": [
    "### ---- 7 Engineer features  ----"
   ]
  },
  {
   "cell_type": "code",
   "execution_count": null,
   "metadata": {},
   "outputs": [],
   "source": [
    "#make sure that data is ready for modeling\n",
    "#create any new features needed to potentially enhance model"
   ]
  },
  {
   "cell_type": "markdown",
   "metadata": {},
   "source": [
    "### ---- 8 Create models ----"
   ]
  },
  {
   "cell_type": "code",
   "execution_count": 15,
   "metadata": {},
   "outputs": [],
   "source": [
    "#create and tune the models that you brainstormed during part 2"
   ]
  },
  {
   "cell_type": "markdown",
   "metadata": {},
   "source": [
    "### ---- 9 Test models ----"
   ]
  },
  {
   "cell_type": "code",
   "execution_count": 1,
   "metadata": {},
   "outputs": [],
   "source": [
    "#do 5-fold cross validation on models and measure MSE"
   ]
  },
  {
   "cell_type": "markdown",
   "metadata": {},
   "source": [
    "### ---- 10 Select best model  ----"
   ]
  },
  {
   "cell_type": "code",
   "execution_count": null,
   "metadata": {},
   "outputs": [],
   "source": [
    "#select the model with the lowest error as your \"prodcuction\" model"
   ]
  },
  {
   "cell_type": "markdown",
   "metadata": {},
   "source": [
    "## Part 4 - DEPLOY"
   ]
  },
  {
   "cell_type": "markdown",
   "metadata": {},
   "source": [
    "### ---- 11 Automate pipeline ----"
   ]
  },
  {
   "cell_type": "code",
   "execution_count": null,
   "metadata": {},
   "outputs": [],
   "source": [
    "#write script that trains model on entire training set, saves model to disk,\n",
    "#and scores the \"test\" dataset"
   ]
  },
  {
   "cell_type": "markdown",
   "metadata": {},
   "source": [
    "### ---- 12 Deploy solution ----"
   ]
  },
  {
   "cell_type": "code",
   "execution_count": 16,
   "metadata": {},
   "outputs": [],
   "source": [
    "#save your prediction to a csv file or optionally save them as a table in a SQL database\n",
    "#additionally, you want to save a visualization and summary of your prediction and feature importances\n",
    "#these visualizations and summaries will be extremely useful to business stakeholders"
   ]
  },
  {
   "cell_type": "markdown",
   "metadata": {},
   "source": [
    "### ---- 13 Measure efficacy ----"
   ]
  },
  {
   "cell_type": "markdown",
   "metadata": {},
   "source": [
    "We'll skip this step since we don't have the outcomes for the test data"
   ]
  },
  {
   "cell_type": "code",
   "execution_count": null,
   "metadata": {},
   "outputs": [],
   "source": []
  },
  {
   "cell_type": "code",
   "execution_count": null,
   "metadata": {},
   "outputs": [],
   "source": []
  },
  {
   "cell_type": "code",
   "execution_count": null,
   "metadata": {},
   "outputs": [],
   "source": []
  },
  {
   "cell_type": "code",
   "execution_count": null,
   "metadata": {},
   "outputs": [],
   "source": []
  }
 ],
 "metadata": {
  "kernelspec": {
   "display_name": "Python 3",
   "language": "python",
   "name": "python3"
  },
  "language_info": {
   "codemirror_mode": {
    "name": "ipython",
    "version": 3
   },
   "file_extension": ".py",
   "mimetype": "text/x-python",
   "name": "python",
   "nbconvert_exporter": "python",
   "pygments_lexer": "ipython3",
   "version": "3.7.10"
  }
 },
 "nbformat": 4,
 "nbformat_minor": 2
}
